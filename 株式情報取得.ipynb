{
  "nbformat": 4,
  "nbformat_minor": 0,
  "metadata": {
    "colab": {
      "provenance": [],
      "authorship_tag": "ABX9TyNBBWDA94E0ZFAxNozRj3+E",
      "include_colab_link": true
    },
    "kernelspec": {
      "name": "python3",
      "display_name": "Python 3"
    },
    "language_info": {
      "name": "python"
    }
  },
  "cells": [
    {
      "cell_type": "markdown",
      "metadata": {
        "id": "view-in-github",
        "colab_type": "text"
      },
      "source": [
        "<a href=\"https://colab.research.google.com/github/yamayama3689/finance/blob/main/%E6%A0%AA%E5%BC%8F%E6%83%85%E5%A0%B1%E5%8F%96%E5%BE%97.ipynb\" target=\"_parent\"><img src=\"https://colab.research.google.com/assets/colab-badge.svg\" alt=\"Open In Colab\"/></a>"
      ]
    },
    {
      "cell_type": "code",
      "source": [
        "# colabのシークレットに保存しトークン情報を取得\n",
        "from google.colab import userdata\n",
        "J_QUANTS_EMAIL = userdata.get('J_QUANTS_EMAIL')\n",
        "J_QUANTS_PASSWORD = userdata.get('J_QUANTS_PASSWORD')"
      ],
      "metadata": {
        "id": "QAPTbCw-Yyrw"
      },
      "execution_count": null,
      "outputs": []
    },
    {
      "cell_type": "code",
      "source": [
        "# 上場銘柄一覧取得\n",
        "# リフレッシュトークン取得\n",
        "import requests\n",
        "import json\n",
        "\n",
        "# 登録したメールアドレス、パスワードを設定\n",
        "# EMAIL_ADDRESSに登録メールアドレス、PASSWORDにパスワードを入力\n",
        "data={\"mailaddress\":J_QUANTS_EMAIL, \"password\":J_QUANTS_PASSWORD}\n",
        "\n",
        "# リフレッシュトークン取得\n",
        "r_post = requests.post(\"https://api.jquants.com/v1/token/auth_user\", data=json.dumps(data)) # data(Pythonの辞書形式)をjson形式に変えてやる\n",
        "r_post.json()"
      ],
      "metadata": {
        "id": "pdCt73PHyFXm"
      },
      "execution_count": null,
      "outputs": []
    },
    {
      "cell_type": "code",
      "source": [],
      "metadata": {
        "id": "S2IIz4kxslS5"
      },
      "execution_count": null,
      "outputs": []
    }
  ]
}